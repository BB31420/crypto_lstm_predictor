{
 "cells": [
  {
   "cell_type": "code",
   "execution_count": null,
   "metadata": {
    "_cell_guid": "b1076dfc-b9ad-4769-8c92-a6c4dae69d19",
    "_uuid": "8f2839f25d086af736a60e9eeb907d3b93b6e0e5"
   },
   "outputs": [
    {
     "name": "stdout",
     "output_type": "stream",
     "text": [
      "Defaulting to user installation because normal site-packages is not writeable\n",
      "Requirement already satisfied: scikit-learn in /home/zane/.local/lib/python3.10/site-packages (1.4.0)\n",
      "Requirement already satisfied: keras in /home/zane/.local/lib/python3.10/site-packages (2.15.0)\n",
      "Requirement already satisfied: tensorflow in /home/zane/.local/lib/python3.10/site-packages (2.15.0.post1)\n",
      "Requirement already satisfied: threadpoolctl>=2.0.0 in /home/zane/.local/lib/python3.10/site-packages (from scikit-learn) (3.2.0)\n",
      "Requirement already satisfied: numpy<2.0,>=1.19.5 in /home/zane/.local/lib/python3.10/site-packages (from scikit-learn) (1.24.4)\n",
      "Requirement already satisfied: joblib>=1.2.0 in /home/zane/.local/lib/python3.10/site-packages (from scikit-learn) (1.3.2)\n",
      "Requirement already satisfied: scipy>=1.6.0 in /usr/lib/python3/dist-packages (from scikit-learn) (1.8.0)\n",
      "Requirement already satisfied: tensorflow-estimator<2.16,>=2.15.0 in /home/zane/.local/lib/python3.10/site-packages (from tensorflow) (2.15.0)\n",
      "Requirement already satisfied: h5py>=2.9.0 in /home/zane/.local/lib/python3.10/site-packages (from tensorflow) (3.10.0)\n",
      "Requirement already satisfied: ml-dtypes~=0.2.0 in /home/zane/.local/lib/python3.10/site-packages (from tensorflow) (0.2.0)\n",
      "Requirement already satisfied: flatbuffers>=23.5.26 in /home/zane/.local/lib/python3.10/site-packages (from tensorflow) (23.5.26)\n",
      "Requirement already satisfied: gast!=0.5.0,!=0.5.1,!=0.5.2,>=0.2.1 in /home/zane/.local/lib/python3.10/site-packages (from tensorflow) (0.5.4)\n",
      "Requirement already satisfied: packaging in /home/zane/.local/lib/python3.10/site-packages (from tensorflow) (23.2)\n",
      "Requirement already satisfied: absl-py>=1.0.0 in /home/zane/.local/lib/python3.10/site-packages (from tensorflow) (2.1.0)\n",
      "Requirement already satisfied: google-pasta>=0.1.1 in /home/zane/.local/lib/python3.10/site-packages (from tensorflow) (0.2.0)\n",
      "Requirement already satisfied: tensorflow-io-gcs-filesystem>=0.23.1 in /home/zane/.local/lib/python3.10/site-packages (from tensorflow) (0.35.0)\n",
      "Requirement already satisfied: setuptools in /usr/lib/python3/dist-packages (from tensorflow) (59.6.0)\n",
      "Requirement already satisfied: tensorboard<2.16,>=2.15 in /home/zane/.local/lib/python3.10/site-packages (from tensorflow) (2.15.1)\n",
      "Requirement already satisfied: typing-extensions>=3.6.6 in /home/zane/.local/lib/python3.10/site-packages (from tensorflow) (4.9.0)\n",
      "Requirement already satisfied: opt-einsum>=2.3.2 in /home/zane/.local/lib/python3.10/site-packages (from tensorflow) (3.3.0)\n",
      "Requirement already satisfied: six>=1.12.0 in /usr/lib/python3/dist-packages (from tensorflow) (1.16.0)\n",
      "Requirement already satisfied: libclang>=13.0.0 in /home/zane/.local/lib/python3.10/site-packages (from tensorflow) (16.0.6)\n",
      "Requirement already satisfied: protobuf!=4.21.0,!=4.21.1,!=4.21.2,!=4.21.3,!=4.21.4,!=4.21.5,<5.0.0dev,>=3.20.3 in /home/zane/.local/lib/python3.10/site-packages (from tensorflow) (4.23.4)\n",
      "Requirement already satisfied: wrapt<1.15,>=1.11.0 in /home/zane/.local/lib/python3.10/site-packages (from tensorflow) (1.14.1)\n",
      "Requirement already satisfied: grpcio<2.0,>=1.24.3 in /home/zane/.local/lib/python3.10/site-packages (from tensorflow) (1.60.0)\n",
      "Requirement already satisfied: termcolor>=1.1.0 in /home/zane/.local/lib/python3.10/site-packages (from tensorflow) (2.4.0)\n",
      "Requirement already satisfied: astunparse>=1.6.0 in /home/zane/.local/lib/python3.10/site-packages (from tensorflow) (1.6.3)\n",
      "Requirement already satisfied: wheel<1.0,>=0.23.0 in /usr/lib/python3/dist-packages (from astunparse>=1.6.0->tensorflow) (0.37.1)\n",
      "Requirement already satisfied: markdown>=2.6.8 in /usr/lib/python3/dist-packages (from tensorboard<2.16,>=2.15->tensorflow) (3.3.6)\n",
      "Requirement already satisfied: google-auth-oauthlib<2,>=0.5 in /home/zane/.local/lib/python3.10/site-packages (from tensorboard<2.16,>=2.15->tensorflow) (1.2.0)\n",
      "Requirement already satisfied: google-auth<3,>=1.6.3 in /home/zane/.local/lib/python3.10/site-packages (from tensorboard<2.16,>=2.15->tensorflow) (2.26.2)\n",
      "Requirement already satisfied: tensorboard-data-server<0.8.0,>=0.7.0 in /home/zane/.local/lib/python3.10/site-packages (from tensorboard<2.16,>=2.15->tensorflow) (0.7.2)\n",
      "Requirement already satisfied: requests<3,>=2.21.0 in /home/zane/.local/lib/python3.10/site-packages (from tensorboard<2.16,>=2.15->tensorflow) (2.31.0)\n",
      "Requirement already satisfied: werkzeug>=1.0.1 in /home/zane/.local/lib/python3.10/site-packages (from tensorboard<2.16,>=2.15->tensorflow) (3.0.1)\n",
      "Requirement already satisfied: pyasn1-modules>=0.2.1 in /home/zane/.local/lib/python3.10/site-packages (from google-auth<3,>=1.6.3->tensorboard<2.16,>=2.15->tensorflow) (0.3.0)\n",
      "Requirement already satisfied: cachetools<6.0,>=2.0.0 in /home/zane/.local/lib/python3.10/site-packages (from google-auth<3,>=1.6.3->tensorboard<2.16,>=2.15->tensorflow) (5.3.2)\n",
      "Requirement already satisfied: rsa<5,>=3.1.4 in /home/zane/.local/lib/python3.10/site-packages (from google-auth<3,>=1.6.3->tensorboard<2.16,>=2.15->tensorflow) (4.9)\n",
      "Requirement already satisfied: requests-oauthlib>=0.7.0 in /home/zane/.local/lib/python3.10/site-packages (from google-auth-oauthlib<2,>=0.5->tensorboard<2.16,>=2.15->tensorflow) (1.3.1)\n",
      "Requirement already satisfied: idna<4,>=2.5 in /usr/lib/python3/dist-packages (from requests<3,>=2.21.0->tensorboard<2.16,>=2.15->tensorflow) (3.3)\n",
      "Requirement already satisfied: charset-normalizer<4,>=2 in /home/zane/.local/lib/python3.10/site-packages (from requests<3,>=2.21.0->tensorboard<2.16,>=2.15->tensorflow) (3.3.2)\n",
      "Requirement already satisfied: urllib3<3,>=1.21.1 in /usr/lib/python3/dist-packages (from requests<3,>=2.21.0->tensorboard<2.16,>=2.15->tensorflow) (1.26.5)\n",
      "Requirement already satisfied: certifi>=2017.4.17 in /usr/lib/python3/dist-packages (from requests<3,>=2.21.0->tensorboard<2.16,>=2.15->tensorflow) (2020.6.20)\n",
      "Requirement already satisfied: MarkupSafe>=2.1.1 in /home/zane/.local/lib/python3.10/site-packages (from werkzeug>=1.0.1->tensorboard<2.16,>=2.15->tensorflow) (2.1.3)\n",
      "Requirement already satisfied: pyasn1<0.6.0,>=0.4.6 in /home/zane/.local/lib/python3.10/site-packages (from pyasn1-modules>=0.2.1->google-auth<3,>=1.6.3->tensorboard<2.16,>=2.15->tensorflow) (0.5.1)\n",
      "Requirement already satisfied: oauthlib>=3.0.0 in /usr/lib/python3/dist-packages (from requests-oauthlib>=0.7.0->google-auth-oauthlib<2,>=0.5->tensorboard<2.16,>=2.15->tensorflow) (3.2.0)\n"
     ]
    }
   ],
   "source": [
    "!pip install scikit-learn keras tensorflow\n",
    "import pandas as pd\n",
    "import numpy as np\n",
    "from sklearn.preprocessing import MinMaxScaler\n",
    "from keras.models import Sequential\n",
    "from keras.layers import LSTM, Dense\n",
    "import matplotlib.pyplot as plt"
   ]
  },
  {
   "cell_type": "code",
   "execution_count": 1,
   "metadata": {},
   "outputs": [
    {
     "ename": "NameError",
     "evalue": "name 'pd' is not defined",
     "output_type": "error",
     "traceback": [
      "\u001b[0;31m---------------------------------------------------------------------------\u001b[0m",
      "\u001b[0;31mNameError\u001b[0m                                 Traceback (most recent call last)",
      "Cell \u001b[0;32mIn[1], line 2\u001b[0m\n\u001b[1;32m      1\u001b[0m \u001b[38;5;66;03m# Load the dataset\u001b[39;00m\n\u001b[0;32m----> 2\u001b[0m df \u001b[38;5;241m=\u001b[39m \u001b[43mpd\u001b[49m\u001b[38;5;241m.\u001b[39mread_csv(\u001b[38;5;124m'\u001b[39m\u001b[38;5;124mCrypto Tracking ML - Archive.csv\u001b[39m\u001b[38;5;124m'\u001b[39m, usecols\u001b[38;5;241m=\u001b[39m[\u001b[38;5;124m'\u001b[39m\u001b[38;5;124mDate\u001b[39m\u001b[38;5;124m'\u001b[39m, \u001b[38;5;124m'\u001b[39m\u001b[38;5;124mETHPrice\u001b[39m\u001b[38;5;124m'\u001b[39m,\u001b[38;5;124m'\u001b[39m\u001b[38;5;124mBTCPrice\u001b[39m\u001b[38;5;124m'\u001b[39m,\u001b[38;5;124m'\u001b[39m\u001b[38;5;124mBCHPrice\u001b[39m\u001b[38;5;124m'\u001b[39m])\n",
      "\u001b[0;31mNameError\u001b[0m: name 'pd' is not defined"
     ]
    }
   ],
   "source": [
    "# Load the dataset\n",
    "df = pd.read_csv('Crypto Tracking ML - Archive.csv', usecols=['Date', 'ETHPrice','BTCPrice','BCHPrice'])\n"
   ]
  },
  {
   "cell_type": "code",
   "execution_count": 47,
   "metadata": {
    "execution": {
     "iopub.execute_input": "2023-02-16T09:25:28.981548Z",
     "iopub.status.busy": "2023-02-16T09:25:28.981009Z",
     "iopub.status.idle": "2023-02-16T09:25:29.013074Z",
     "shell.execute_reply": "2023-02-16T09:25:29.012180Z",
     "shell.execute_reply.started": "2023-02-16T09:25:28.981500Z"
    }
   },
   "outputs": [
    {
     "data": {
      "text/html": [
       "<div>\n",
       "<style scoped>\n",
       "    .dataframe tbody tr th:only-of-type {\n",
       "        vertical-align: middle;\n",
       "    }\n",
       "\n",
       "    .dataframe tbody tr th {\n",
       "        vertical-align: top;\n",
       "    }\n",
       "\n",
       "    .dataframe thead th {\n",
       "        text-align: right;\n",
       "    }\n",
       "</style>\n",
       "<table border=\"1\" class=\"dataframe\">\n",
       "  <thead>\n",
       "    <tr style=\"text-align: right;\">\n",
       "      <th></th>\n",
       "      <th>ETHPrice</th>\n",
       "      <th>BTCPrice</th>\n",
       "      <th>BCHPrice</th>\n",
       "    </tr>\n",
       "  </thead>\n",
       "  <tbody>\n",
       "    <tr>\n",
       "      <th>count</th>\n",
       "      <td>1182.000000</td>\n",
       "      <td>1182.000000</td>\n",
       "      <td>1182.000000</td>\n",
       "    </tr>\n",
       "    <tr>\n",
       "      <th>mean</th>\n",
       "      <td>1547.596878</td>\n",
       "      <td>22293.874027</td>\n",
       "      <td>126.054069</td>\n",
       "    </tr>\n",
       "    <tr>\n",
       "      <th>std</th>\n",
       "      <td>59.372780</td>\n",
       "      <td>914.156201</td>\n",
       "      <td>3.709301</td>\n",
       "    </tr>\n",
       "    <tr>\n",
       "      <th>min</th>\n",
       "      <td>1469.700000</td>\n",
       "      <td>21466.300000</td>\n",
       "      <td>120.150000</td>\n",
       "    </tr>\n",
       "    <tr>\n",
       "      <th>25%</th>\n",
       "      <td>1506.322500</td>\n",
       "      <td>21754.825000</td>\n",
       "      <td>123.920000</td>\n",
       "    </tr>\n",
       "    <tr>\n",
       "      <th>50%</th>\n",
       "      <td>1534.885000</td>\n",
       "      <td>21892.000000</td>\n",
       "      <td>125.330000</td>\n",
       "    </tr>\n",
       "    <tr>\n",
       "      <th>75%</th>\n",
       "      <td>1556.872500</td>\n",
       "      <td>22222.850000</td>\n",
       "      <td>126.527500</td>\n",
       "    </tr>\n",
       "    <tr>\n",
       "      <th>max</th>\n",
       "      <td>1703.070000</td>\n",
       "      <td>24792.000000</td>\n",
       "      <td>135.770000</td>\n",
       "    </tr>\n",
       "  </tbody>\n",
       "</table>\n",
       "</div>"
      ],
      "text/plain": [
       "          ETHPrice      BTCPrice     BCHPrice\n",
       "count  1182.000000   1182.000000  1182.000000\n",
       "mean   1547.596878  22293.874027   126.054069\n",
       "std      59.372780    914.156201     3.709301\n",
       "min    1469.700000  21466.300000   120.150000\n",
       "25%    1506.322500  21754.825000   123.920000\n",
       "50%    1534.885000  21892.000000   125.330000\n",
       "75%    1556.872500  22222.850000   126.527500\n",
       "max    1703.070000  24792.000000   135.770000"
      ]
     },
     "execution_count": 47,
     "metadata": {},
     "output_type": "execute_result"
    }
   ],
   "source": [
    "df.describe()"
   ]
  },
  {
   "cell_type": "code",
   "execution_count": 48,
   "metadata": {
    "execution": {
     "iopub.execute_input": "2023-02-16T09:25:30.602948Z",
     "iopub.status.busy": "2023-02-16T09:25:30.602133Z",
     "iopub.status.idle": "2023-02-16T09:25:30.617489Z",
     "shell.execute_reply": "2023-02-16T09:25:30.616186Z",
     "shell.execute_reply.started": "2023-02-16T09:25:30.602859Z"
    }
   },
   "outputs": [
    {
     "name": "stdout",
     "output_type": "stream",
     "text": [
      "<class 'pandas.core.frame.DataFrame'>\n",
      "RangeIndex: 1182 entries, 0 to 1181\n",
      "Data columns (total 4 columns):\n",
      " #   Column    Non-Null Count  Dtype  \n",
      "---  ------    --------------  -----  \n",
      " 0   Date      1182 non-null   object \n",
      " 1   ETHPrice  1182 non-null   float64\n",
      " 2   BTCPrice  1182 non-null   float64\n",
      " 3   BCHPrice  1182 non-null   float64\n",
      "dtypes: float64(3), object(1)\n",
      "memory usage: 37.1+ KB\n"
     ]
    }
   ],
   "source": [
    "df.info()"
   ]
  },
  {
   "cell_type": "code",
   "execution_count": 49,
   "metadata": {
    "execution": {
     "iopub.execute_input": "2023-02-16T09:25:31.290669Z",
     "iopub.status.busy": "2023-02-16T09:25:31.289466Z",
     "iopub.status.idle": "2023-02-16T09:25:31.296672Z",
     "shell.execute_reply": "2023-02-16T09:25:31.295778Z",
     "shell.execute_reply.started": "2023-02-16T09:25:31.290616Z"
    }
   },
   "outputs": [
    {
     "data": {
      "text/plain": [
       "RangeIndex(start=0, stop=1182, step=1)"
      ]
     },
     "execution_count": 49,
     "metadata": {},
     "output_type": "execute_result"
    }
   ],
   "source": [
    "df.index"
   ]
  },
  {
   "cell_type": "code",
   "execution_count": 37,
   "metadata": {
    "execution": {
     "iopub.execute_input": "2023-02-16T09:21:21.238450Z",
     "iopub.status.busy": "2023-02-16T09:21:21.238056Z",
     "iopub.status.idle": "2023-02-16T09:21:21.253815Z",
     "shell.execute_reply": "2023-02-16T09:21:21.252237Z",
     "shell.execute_reply.started": "2023-02-16T09:21:21.238419Z"
    }
   },
   "outputs": [
    {
     "data": {
      "text/html": [
       "<div>\n",
       "<style scoped>\n",
       "    .dataframe tbody tr th:only-of-type {\n",
       "        vertical-align: middle;\n",
       "    }\n",
       "\n",
       "    .dataframe tbody tr th {\n",
       "        vertical-align: top;\n",
       "    }\n",
       "\n",
       "    .dataframe thead th {\n",
       "        text-align: right;\n",
       "    }\n",
       "</style>\n",
       "<table border=\"1\" class=\"dataframe\">\n",
       "  <thead>\n",
       "    <tr style=\"text-align: right;\">\n",
       "      <th></th>\n",
       "      <th>Date</th>\n",
       "      <th>ETHPrice</th>\n",
       "    </tr>\n",
       "  </thead>\n",
       "  <tbody>\n",
       "    <tr>\n",
       "      <th>0</th>\n",
       "      <td>2/11/2023 23:16:46</td>\n",
       "      <td>1531.81</td>\n",
       "    </tr>\n",
       "    <tr>\n",
       "      <th>1</th>\n",
       "      <td>2/11/2023 23:20:46</td>\n",
       "      <td>1532.03</td>\n",
       "    </tr>\n",
       "    <tr>\n",
       "      <th>2</th>\n",
       "      <td>2/11/2023 23:26:46</td>\n",
       "      <td>1531.93</td>\n",
       "    </tr>\n",
       "    <tr>\n",
       "      <th>3</th>\n",
       "      <td>2/11/2023 23:30:46</td>\n",
       "      <td>1532.34</td>\n",
       "    </tr>\n",
       "    <tr>\n",
       "      <th>4</th>\n",
       "      <td>2/11/2023 23:36:46</td>\n",
       "      <td>1530.89</td>\n",
       "    </tr>\n",
       "    <tr>\n",
       "      <th>...</th>\n",
       "      <td>...</td>\n",
       "      <td>...</td>\n",
       "    </tr>\n",
       "    <tr>\n",
       "      <th>1177</th>\n",
       "      <td>2/16/2023 0:30:30</td>\n",
       "      <td>1684.17</td>\n",
       "    </tr>\n",
       "    <tr>\n",
       "      <th>1178</th>\n",
       "      <td>2/16/2023 0:36:30</td>\n",
       "      <td>1684.77</td>\n",
       "    </tr>\n",
       "    <tr>\n",
       "      <th>1179</th>\n",
       "      <td>2/16/2023 0:40:30</td>\n",
       "      <td>1684.46</td>\n",
       "    </tr>\n",
       "    <tr>\n",
       "      <th>1180</th>\n",
       "      <td>2/16/2023 0:46:30</td>\n",
       "      <td>1685.80</td>\n",
       "    </tr>\n",
       "    <tr>\n",
       "      <th>1181</th>\n",
       "      <td>2/16/2023 0:50:30</td>\n",
       "      <td>1685.12</td>\n",
       "    </tr>\n",
       "  </tbody>\n",
       "</table>\n",
       "<p>1182 rows × 2 columns</p>\n",
       "</div>"
      ],
      "text/plain": [
       "                    Date  ETHPrice\n",
       "0     2/11/2023 23:16:46   1531.81\n",
       "1     2/11/2023 23:20:46   1532.03\n",
       "2     2/11/2023 23:26:46   1531.93\n",
       "3     2/11/2023 23:30:46   1532.34\n",
       "4     2/11/2023 23:36:46   1530.89\n",
       "...                  ...       ...\n",
       "1177   2/16/2023 0:30:30   1684.17\n",
       "1178   2/16/2023 0:36:30   1684.77\n",
       "1179   2/16/2023 0:40:30   1684.46\n",
       "1180   2/16/2023 0:46:30   1685.80\n",
       "1181   2/16/2023 0:50:30   1685.12\n",
       "\n",
       "[1182 rows x 2 columns]"
      ]
     },
     "execution_count": 37,
     "metadata": {},
     "output_type": "execute_result"
    }
   ],
   "source": [
    "df"
   ]
  },
  {
   "cell_type": "code",
   "execution_count": 38,
   "metadata": {
    "execution": {
     "iopub.execute_input": "2023-02-16T09:21:26.715136Z",
     "iopub.status.busy": "2023-02-16T09:21:26.714631Z",
     "iopub.status.idle": "2023-02-16T09:21:26.977636Z",
     "shell.execute_reply": "2023-02-16T09:21:26.976205Z",
     "shell.execute_reply.started": "2023-02-16T09:21:26.715096Z"
    }
   },
   "outputs": [
    {
     "data": {
      "text/plain": [
       "<AxesSubplot:>"
      ]
     },
     "execution_count": 38,
     "metadata": {},
     "output_type": "execute_result"
    },
    {
     "data": {
      "image/png": "[encoded data removed]",
      "text/plain": [
       "<Figure size 640x480 with 1 Axes>"
      ]
     },
     "metadata": {},
     "output_type": "display_data"
    }
   ],
   "source": [
    "df.plot.line(y=\"ETHPrice\", use_index=True)"
   ]
  },
  {
   "cell_type": "code",
   "execution_count": 52,
   "metadata": {
    "execution": {
     "iopub.execute_input": "2023-02-16T09:25:54.374636Z",
     "iopub.status.busy": "2023-02-16T09:25:54.374241Z",
     "iopub.status.idle": "2023-02-16T09:25:54.382134Z",
     "shell.execute_reply": "2023-02-16T09:25:54.380616Z",
     "shell.execute_reply.started": "2023-02-16T09:25:54.374605Z"
    }
   },
   "outputs": [],
   "source": [
    "df[\"Next\"] = df[\"ETHPrice\"].shift(-1)"
   ]
  },
  {
   "cell_type": "code",
   "execution_count": 53,
   "metadata": {
    "execution": {
     "iopub.execute_input": "2023-02-16T09:25:55.107777Z",
     "iopub.status.busy": "2023-02-16T09:25:55.106688Z",
     "iopub.status.idle": "2023-02-16T09:25:55.115970Z",
     "shell.execute_reply": "2023-02-16T09:25:55.114503Z",
     "shell.execute_reply.started": "2023-02-16T09:25:55.107724Z"
    }
   },
   "outputs": [],
   "source": [
    "df[\"Target\"] = (df[\"Next\"] > df[\"ETHPrice\"]).astype(int)"
   ]
  },
  {
   "cell_type": "code",
   "execution_count": 54,
   "metadata": {
    "execution": {
     "iopub.execute_input": "2023-02-16T09:25:56.844109Z",
     "iopub.status.busy": "2023-02-16T09:25:56.842607Z",
     "iopub.status.idle": "2023-02-16T09:25:56.863883Z",
     "shell.execute_reply": "2023-02-16T09:25:56.862413Z",
     "shell.execute_reply.started": "2023-02-16T09:25:56.844061Z"
    }
   },
   "outputs": [
    {
     "data": {
      "text/html": [
       "<div>\n",
       "<style scoped>\n",
       "    .dataframe tbody tr th:only-of-type {\n",
       "        vertical-align: middle;\n",
       "    }\n",
       "\n",
       "    .dataframe tbody tr th {\n",
       "        vertical-align: top;\n",
       "    }\n",
       "\n",
       "    .dataframe thead th {\n",
       "        text-align: right;\n",
       "    }\n",
       "</style>\n",
       "<table border=\"1\" class=\"dataframe\">\n",
       "  <thead>\n",
       "    <tr style=\"text-align: right;\">\n",
       "      <th></th>\n",
       "      <th>Date</th>\n",
       "      <th>ETHPrice</th>\n",
       "      <th>BTCPrice</th>\n",
       "      <th>BCHPrice</th>\n",
       "      <th>Next</th>\n",
       "      <th>Target</th>\n",
       "    </tr>\n",
       "  </thead>\n",
       "  <tbody>\n",
       "    <tr>\n",
       "      <th>0</th>\n",
       "      <td>2/11/2023 23:16:46</td>\n",
       "      <td>1531.81</td>\n",
       "      <td>21810.6</td>\n",
       "      <td>124.80</td>\n",
       "      <td>1532.03</td>\n",
       "      <td>1</td>\n",
       "    </tr>\n",
       "    <tr>\n",
       "      <th>1</th>\n",
       "      <td>2/11/2023 23:20:46</td>\n",
       "      <td>1532.03</td>\n",
       "      <td>21812.1</td>\n",
       "      <td>124.91</td>\n",
       "      <td>1531.93</td>\n",
       "      <td>0</td>\n",
       "    </tr>\n",
       "    <tr>\n",
       "      <th>2</th>\n",
       "      <td>2/11/2023 23:26:46</td>\n",
       "      <td>1531.93</td>\n",
       "      <td>21810.4</td>\n",
       "      <td>124.85</td>\n",
       "      <td>1532.34</td>\n",
       "      <td>1</td>\n",
       "    </tr>\n",
       "    <tr>\n",
       "      <th>3</th>\n",
       "      <td>2/11/2023 23:30:46</td>\n",
       "      <td>1532.34</td>\n",
       "      <td>21810.9</td>\n",
       "      <td>124.84</td>\n",
       "      <td>1530.89</td>\n",
       "      <td>0</td>\n",
       "    </tr>\n",
       "    <tr>\n",
       "      <th>4</th>\n",
       "      <td>2/11/2023 23:36:46</td>\n",
       "      <td>1530.89</td>\n",
       "      <td>21804.4</td>\n",
       "      <td>124.67</td>\n",
       "      <td>1531.09</td>\n",
       "      <td>1</td>\n",
       "    </tr>\n",
       "    <tr>\n",
       "      <th>...</th>\n",
       "      <td>...</td>\n",
       "      <td>...</td>\n",
       "      <td>...</td>\n",
       "      <td>...</td>\n",
       "      <td>...</td>\n",
       "      <td>...</td>\n",
       "    </tr>\n",
       "    <tr>\n",
       "      <th>1177</th>\n",
       "      <td>2/16/2023 0:30:30</td>\n",
       "      <td>1684.17</td>\n",
       "      <td>24643.0</td>\n",
       "      <td>134.53</td>\n",
       "      <td>1684.77</td>\n",
       "      <td>1</td>\n",
       "    </tr>\n",
       "    <tr>\n",
       "      <th>1178</th>\n",
       "      <td>2/16/2023 0:36:30</td>\n",
       "      <td>1684.77</td>\n",
       "      <td>24658.3</td>\n",
       "      <td>134.57</td>\n",
       "      <td>1684.46</td>\n",
       "      <td>0</td>\n",
       "    </tr>\n",
       "    <tr>\n",
       "      <th>1179</th>\n",
       "      <td>2/16/2023 0:40:30</td>\n",
       "      <td>1684.46</td>\n",
       "      <td>24635.7</td>\n",
       "      <td>134.42</td>\n",
       "      <td>1685.80</td>\n",
       "      <td>1</td>\n",
       "    </tr>\n",
       "    <tr>\n",
       "      <th>1180</th>\n",
       "      <td>2/16/2023 0:46:30</td>\n",
       "      <td>1685.80</td>\n",
       "      <td>24652.0</td>\n",
       "      <td>134.75</td>\n",
       "      <td>1685.12</td>\n",
       "      <td>0</td>\n",
       "    </tr>\n",
       "    <tr>\n",
       "      <th>1181</th>\n",
       "      <td>2/16/2023 0:50:30</td>\n",
       "      <td>1685.12</td>\n",
       "      <td>24631.4</td>\n",
       "      <td>134.61</td>\n",
       "      <td>NaN</td>\n",
       "      <td>0</td>\n",
       "    </tr>\n",
       "  </tbody>\n",
       "</table>\n",
       "<p>1182 rows × 6 columns</p>\n",
       "</div>"
      ],
      "text/plain": [
       "                    Date  ETHPrice  BTCPrice  BCHPrice     Next  Target\n",
       "0     2/11/2023 23:16:46   1531.81   21810.6    124.80  1532.03       1\n",
       "1     2/11/2023 23:20:46   1532.03   21812.1    124.91  1531.93       0\n",
       "2     2/11/2023 23:26:46   1531.93   21810.4    124.85  1532.34       1\n",
       "3     2/11/2023 23:30:46   1532.34   21810.9    124.84  1530.89       0\n",
       "4     2/11/2023 23:36:46   1530.89   21804.4    124.67  1531.09       1\n",
       "...                  ...       ...       ...       ...      ...     ...\n",
       "1177   2/16/2023 0:30:30   1684.17   24643.0    134.53  1684.77       1\n",
       "1178   2/16/2023 0:36:30   1684.77   24658.3    134.57  1684.46       0\n",
       "1179   2/16/2023 0:40:30   1684.46   24635.7    134.42  1685.80       1\n",
       "1180   2/16/2023 0:46:30   1685.80   24652.0    134.75  1685.12       0\n",
       "1181   2/16/2023 0:50:30   1685.12   24631.4    134.61      NaN       0\n",
       "\n",
       "[1182 rows x 6 columns]"
      ]
     },
     "execution_count": 54,
     "metadata": {},
     "output_type": "execute_result"
    }
   ],
   "source": [
    "df"
   ]
  },
  {
   "cell_type": "code",
   "execution_count": 55,
   "metadata": {
    "execution": {
     "iopub.execute_input": "2023-02-16T09:27:22.594490Z",
     "iopub.status.busy": "2023-02-16T09:27:22.594074Z",
     "iopub.status.idle": "2023-02-16T09:27:23.177390Z",
     "shell.execute_reply": "2023-02-16T09:27:23.175882Z",
     "shell.execute_reply.started": "2023-02-16T09:27:22.594459Z"
    }
   },
   "outputs": [
    {
     "data": {
      "text/plain": [
       "RandomForestClassifier(min_samples_split=50, random_state=1)"
      ]
     },
     "execution_count": 55,
     "metadata": {},
     "output_type": "execute_result"
    }
   ],
   "source": [
    "from sklearn.ensemble import RandomForestClassifier\n",
    "\n",
    "model = RandomForestClassifier(n_estimators=100, min_samples_split=50, random_state=1)\n",
    "\n",
    "train = df.iloc[:-100]\n",
    "test = df.iloc[-100:]\n",
    "\n",
    "predictors = [\"ETHPrice\", \"BTCPrice\", \"BCHPrice\"]\n",
    "model.fit(train[predictors], train [\"Target\"])"
   ]
  },
  {
   "cell_type": "code",
   "execution_count": 56,
   "metadata": {
    "execution": {
     "iopub.execute_input": "2023-02-16T09:27:39.531477Z",
     "iopub.status.busy": "2023-02-16T09:27:39.531069Z",
     "iopub.status.idle": "2023-02-16T09:27:39.557638Z",
     "shell.execute_reply": "2023-02-16T09:27:39.556583Z",
     "shell.execute_reply.started": "2023-02-16T09:27:39.531447Z"
    }
   },
   "outputs": [],
   "source": [
    "from sklearn.metrics import precision_score\n",
    "\n",
    "preds = model.predict(test[predictors])"
   ]
  },
  {
   "cell_type": "code",
   "execution_count": 57,
   "metadata": {
    "execution": {
     "iopub.execute_input": "2023-02-16T09:27:54.647014Z",
     "iopub.status.busy": "2023-02-16T09:27:54.646552Z",
     "iopub.status.idle": "2023-02-16T09:27:54.653690Z",
     "shell.execute_reply": "2023-02-16T09:27:54.651994Z",
     "shell.execute_reply.started": "2023-02-16T09:27:54.646974Z"
    }
   },
   "outputs": [],
   "source": [
    "preds = pd.Series(preds, index=test.index)"
   ]
  },
  {
   "cell_type": "code",
   "execution_count": 58,
   "metadata": {
    "execution": {
     "iopub.execute_input": "2023-02-16T09:28:01.722620Z",
     "iopub.status.busy": "2023-02-16T09:28:01.722171Z",
     "iopub.status.idle": "2023-02-16T09:28:01.733829Z",
     "shell.execute_reply": "2023-02-16T09:28:01.732246Z",
     "shell.execute_reply.started": "2023-02-16T09:28:01.722577Z"
    }
   },
   "outputs": [
    {
     "data": {
      "text/plain": [
       "0.6666666666666666"
      ]
     },
     "execution_count": 58,
     "metadata": {},
     "output_type": "execute_result"
    }
   ],
   "source": [
    "precision_score(test[\"Target\"], preds)"
   ]
  },
  {
   "cell_type": "code",
   "execution_count": 59,
   "metadata": {
    "execution": {
     "iopub.execute_input": "2023-02-16T09:28:25.768950Z",
     "iopub.status.busy": "2023-02-16T09:28:25.768396Z",
     "iopub.status.idle": "2023-02-16T09:28:25.776729Z",
     "shell.execute_reply": "2023-02-16T09:28:25.775302Z",
     "shell.execute_reply.started": "2023-02-16T09:28:25.768895Z"
    }
   },
   "outputs": [],
   "source": [
    "combined = pd.concat([test[\"Target\"], preds], axis=1)"
   ]
  },
  {
   "cell_type": "code",
   "execution_count": 60,
   "metadata": {
    "execution": {
     "iopub.execute_input": "2023-02-16T09:28:32.333106Z",
     "iopub.status.busy": "2023-02-16T09:28:32.332008Z",
     "iopub.status.idle": "2023-02-16T09:28:32.628388Z",
     "shell.execute_reply": "2023-02-16T09:28:32.627499Z",
     "shell.execute_reply.started": "2023-02-16T09:28:32.333066Z"
    }
   },
   "outputs": [
    {
     "data": {
      "text/plain": [
       "<AxesSubplot:>"
      ]
     },
     "execution_count": 60,
     "metadata": {},
     "output_type": "execute_result"
    },
    {
     "data": {
      "image/png": "[encoded data removed]",
      "text/plain": [
       "<Figure size 640x480 with 1 Axes>"
      ]
     },
     "metadata": {},
     "output_type": "display_data"
    }
   ],
   "source": [
    "combined.plot()"
   ]
  },
  {
   "cell_type": "code",
   "execution_count": null,
   "metadata": {},
   "outputs": [],
   "source": []
  }
 ],
 "metadata": {
  "kernelspec": {
   "display_name": "Python 3 (ipykernel)",
   "language": "python",
   "name": "python3"
  },
  "language_info": {
   "codemirror_mode": {
    "name": "ipython",
    "version": 3
   },
   "file_extension": ".py",
   "mimetype": "text/x-python",
   "name": "python",
   "nbconvert_exporter": "python",
   "pygments_lexer": "ipython3",
   "version": "3.10.12"
  }
 },
 "nbformat": 4,
 "nbformat_minor": 4
}
